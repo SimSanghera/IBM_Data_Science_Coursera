{
 "cells": [
  {
   "cell_type": "markdown",
   "metadata": {},
   "source": [
    "<center>\n",
    "    <img src=\"https://s3-api.us-geo.objectstorage.softlayer.net/cf-courses-data/CognitiveClass/Logos/organization_logo/organization_logo.png\" width=\"300\" alt=\"cognitiveclass.ai logo\"  />\n",
    "</center>\n"
   ]
  },
  {
   "cell_type": "markdown",
   "metadata": {},
   "source": [
    "# My Jupyter Notebook on IBM Watson Studio"
   ]
  },
  {
   "cell_type": "markdown",
   "metadata": {},
   "source": [
    "__Nuvraj Simon Sanghera__  \n",
    "Conservation Research Scientist"
   ]
  },
  {
   "cell_type": "markdown",
   "metadata": {},
   "source": [
    "_Analysing data is how we find out more about our world, and then how we can work towards protecting it. Conservation biology often requires working with multiple types of complex data and we need to use fairly complex statistical techniques to analyse our data. If I can become a better data scientist and employ real-time analytical methods and machine learning techniques, I could better help my planet and the wildlife that live on it._"
   ]
  },
  {
   "cell_type": "markdown",
   "metadata": {},
   "source": [
    "### The simple code below should print the name of one of my favourite wildlife documentaries \"The Blue Planet\""
   ]
  },
  {
   "cell_type": "code",
   "execution_count": 1,
   "metadata": {},
   "outputs": [
    {
     "name": "stdout",
     "output_type": "stream",
     "text": [
      "The Blue Planet\n"
     ]
    }
   ],
   "source": [
    "print(\"The Blue Planet\")"
   ]
  },
  {
   "cell_type": "markdown",
   "metadata": {},
   "source": [
    "_In_ this cell I will use:\n",
    "- a bulleted list\n",
    "- a table\n",
    "- code/syntax highlighting\n",
    "\n",
    "\n",
    "### Table\n",
    "|Type of Cell| Number of Cells |\n",
    "| :----:     |  :----:         |\n",
    "| Markdown   |  5              |\n",
    "| Python code|  1              |\n",
    "\n",
    "### Code/syntax highlighting\n",
    "If I was to get the same output as the above code cell in R, I would use:\n",
    "```R\n",
    "{documentary <- \"The Blue Planet\"\n",
    " print(documentary)\n",
    "}\n",
    "```"
   ]
  }
 ],
 "metadata": {
  "kernelspec": {
   "display_name": "Python",
   "language": "python",
   "name": "conda-env-python-py"
  },
  "language_info": {
   "codemirror_mode": {
    "name": "ipython",
    "version": 3
   },
   "file_extension": ".py",
   "mimetype": "text/x-python",
   "name": "python",
   "nbconvert_exporter": "python",
   "pygments_lexer": "ipython3",
   "version": "3.7.12"
  }
 },
 "nbformat": 4,
 "nbformat_minor": 4
}
